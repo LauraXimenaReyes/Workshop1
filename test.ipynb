{
 "cells": [
  {
   "cell_type": "markdown",
   "metadata": {},
   "source": [
    "We start by making the imports."
   ]
  },
  {
   "cell_type": "code",
   "execution_count": 2,
   "metadata": {},
   "outputs": [],
   "source": [
    "import pandas as pd"
   ]
  },
  {
   "cell_type": "markdown",
   "metadata": {},
   "source": [
    "leer el csv"
   ]
  },
  {
   "cell_type": "code",
   "execution_count": 3,
   "metadata": {},
   "outputs": [],
   "source": [
    "csv = \"candidates.csv\"\n",
    "df = pd.read_csv(csv, delimiter = \";\")"
   ]
  },
  {
   "cell_type": "code",
   "execution_count": 4,
   "metadata": {},
   "outputs": [
    {
     "data": {
      "text/plain": [
       "<bound method DataFrame.info of        First Name   Last Name                       Email Application Date  \\\n",
       "0      Bernadette   Langworth         leonard91@yahoo.com       2021-02-26   \n",
       "1          Camryn    Reynolds         zelda56@hotmail.com       2021-09-09   \n",
       "2           Larue      Spinka    okey_schultz41@gmail.com       2020-04-14   \n",
       "3            Arch      Spinka      elvera_kulas@yahoo.com       2020-10-01   \n",
       "4           Larue  Altenwerth   minnie.gislason@gmail.com       2020-05-20   \n",
       "...           ...         ...                         ...              ...   \n",
       "49995     Bethany     Shields  rocky_mitchell@hotmail.com       2022-01-09   \n",
       "49996         Era  Swaniawski    dolores.roob@hotmail.com       2020-06-02   \n",
       "49997      Martin       Lakin   savanah.stracke@gmail.com       2018-12-15   \n",
       "49998       Aliya   Abernathy  vivienne.fritsch@yahoo.com       2020-05-30   \n",
       "49999     Coleman      Wisozk   abigayle.crooks@yahoo.com       2022-06-13   \n",
       "\n",
       "                  Country  YOE  Seniority                         Technology  \\\n",
       "0                  Norway    2     Intern                      Data Engineer   \n",
       "1                  Panama   10     Intern                      Data Engineer   \n",
       "2                 Belarus    4  Mid-Level                     Client Success   \n",
       "3                 Eritrea   25    Trainee                          QA Manual   \n",
       "4                 Myanmar   13  Mid-Level  Social Media Community Management   \n",
       "...                   ...  ...        ...                                ...   \n",
       "49995  Dominican Republic   27    Trainee                           Security   \n",
       "49996             Morocco   21       Lead                   Game Development   \n",
       "49997              Uganda   20    Trainee              System Administration   \n",
       "49998      Czech Republic   20     Senior            Database Administration   \n",
       "49999               Palau   15     Intern                           Mulesoft   \n",
       "\n",
       "       Code Challenge Score  Technical Interview Score  \n",
       "0                         3                          3  \n",
       "1                         2                         10  \n",
       "2                        10                          9  \n",
       "3                         7                          1  \n",
       "4                         9                          7  \n",
       "...                     ...                        ...  \n",
       "49995                     2                          1  \n",
       "49996                     1                          2  \n",
       "49997                     6                          1  \n",
       "49998                     0                          0  \n",
       "49999                     3                          1  \n",
       "\n",
       "[50000 rows x 10 columns]>"
      ]
     },
     "execution_count": 4,
     "metadata": {},
     "output_type": "execute_result"
    }
   ],
   "source": [
    "df.info"
   ]
  },
  {
   "cell_type": "code",
   "execution_count": 16,
   "metadata": {},
   "outputs": [
    {
     "data": {
      "text/plain": [
       "Index(['First Name', 'Last Name', 'Email', 'Application Date', 'Country',\n",
       "       'YOE', 'Seniority', 'Technology', 'Code Challenge Score',\n",
       "       'Technical Interview Score'],\n",
       "      dtype='object')"
      ]
     },
     "execution_count": 16,
     "metadata": {},
     "output_type": "execute_result"
    }
   ],
   "source": [
    "df.columns"
   ]
  },
  {
   "cell_type": "code",
   "execution_count": 15,
   "metadata": {},
   "outputs": [
    {
     "data": {
      "text/plain": [
       "First Name                   object\n",
       "Last Name                    object\n",
       "Email                        object\n",
       "Application Date             object\n",
       "Country                      object\n",
       "YOE                           int64\n",
       "Seniority                    object\n",
       "Technology                   object\n",
       "Code Challenge Score          int64\n",
       "Technical Interview Score     int64\n",
       "dtype: object"
      ]
     },
     "execution_count": 15,
     "metadata": {},
     "output_type": "execute_result"
    }
   ],
   "source": [
    "df.dtypes"
   ]
  },
  {
   "cell_type": "code",
   "execution_count": 21,
   "metadata": {},
   "outputs": [
    {
     "data": {
      "text/plain": [
       "array(['Data Engineer', 'Client Success', 'QA Manual',\n",
       "       'Social Media Community Management', 'Adobe Experience Manager',\n",
       "       'Sales', 'Mulesoft', 'DevOps', 'Development - CMS Backend',\n",
       "       'Salesforce', 'System Administration', 'Security',\n",
       "       'Game Development', 'Development - CMS Frontend',\n",
       "       'Security Compliance', 'Development - Backend', 'Design',\n",
       "       'Business Analytics / Project Management',\n",
       "       'Development - Frontend', 'Development - FullStack',\n",
       "       'Business Intelligence', 'Database Administration',\n",
       "       'QA Automation', 'Technical Writing'], dtype=object)"
      ]
     },
     "execution_count": 21,
     "metadata": {},
     "output_type": "execute_result"
    }
   ],
   "source": [
    "pd.unique(df['Technology'])"
   ]
  },
  {
   "cell_type": "code",
   "execution_count": 23,
   "metadata": {},
   "outputs": [
    {
     "data": {
      "text/plain": [
       "count    50000.000000\n",
       "mean        15.286980\n",
       "std          8.830652\n",
       "min          0.000000\n",
       "25%          8.000000\n",
       "50%         15.000000\n",
       "75%         23.000000\n",
       "max         30.000000\n",
       "Name: YOE, dtype: float64"
      ]
     },
     "execution_count": 23,
     "metadata": {},
     "output_type": "execute_result"
    }
   ],
   "source": [
    "df['YOE'].describe()"
   ]
  },
  {
   "cell_type": "code",
   "execution_count": 19,
   "metadata": {},
   "outputs": [
    {
     "data": {
      "text/html": [
       "<div>\n",
       "<style scoped>\n",
       "    .dataframe tbody tr th:only-of-type {\n",
       "        vertical-align: middle;\n",
       "    }\n",
       "\n",
       "    .dataframe tbody tr th {\n",
       "        vertical-align: top;\n",
       "    }\n",
       "\n",
       "    .dataframe thead tr th {\n",
       "        text-align: left;\n",
       "    }\n",
       "\n",
       "    .dataframe thead tr:last-of-type th {\n",
       "        text-align: right;\n",
       "    }\n",
       "</style>\n",
       "<table border=\"1\" class=\"dataframe\">\n",
       "  <thead>\n",
       "    <tr>\n",
       "      <th></th>\n",
       "      <th colspan=\"8\" halign=\"left\">YOE</th>\n",
       "      <th colspan=\"5\" halign=\"left\">Code Challenge Score</th>\n",
       "      <th colspan=\"8\" halign=\"left\">Technical Interview Score</th>\n",
       "    </tr>\n",
       "    <tr>\n",
       "      <th></th>\n",
       "      <th>count</th>\n",
       "      <th>mean</th>\n",
       "      <th>std</th>\n",
       "      <th>min</th>\n",
       "      <th>25%</th>\n",
       "      <th>50%</th>\n",
       "      <th>75%</th>\n",
       "      <th>max</th>\n",
       "      <th>count</th>\n",
       "      <th>mean</th>\n",
       "      <th>...</th>\n",
       "      <th>75%</th>\n",
       "      <th>max</th>\n",
       "      <th>count</th>\n",
       "      <th>mean</th>\n",
       "      <th>std</th>\n",
       "      <th>min</th>\n",
       "      <th>25%</th>\n",
       "      <th>50%</th>\n",
       "      <th>75%</th>\n",
       "      <th>max</th>\n",
       "    </tr>\n",
       "    <tr>\n",
       "      <th>Country</th>\n",
       "      <th></th>\n",
       "      <th></th>\n",
       "      <th></th>\n",
       "      <th></th>\n",
       "      <th></th>\n",
       "      <th></th>\n",
       "      <th></th>\n",
       "      <th></th>\n",
       "      <th></th>\n",
       "      <th></th>\n",
       "      <th></th>\n",
       "      <th></th>\n",
       "      <th></th>\n",
       "      <th></th>\n",
       "      <th></th>\n",
       "      <th></th>\n",
       "      <th></th>\n",
       "      <th></th>\n",
       "      <th></th>\n",
       "      <th></th>\n",
       "      <th></th>\n",
       "    </tr>\n",
       "  </thead>\n",
       "  <tbody>\n",
       "    <tr>\n",
       "      <th>Afghanistan</th>\n",
       "      <td>197.0</td>\n",
       "      <td>15.913706</td>\n",
       "      <td>8.690111</td>\n",
       "      <td>0.0</td>\n",
       "      <td>9.00</td>\n",
       "      <td>16.0</td>\n",
       "      <td>23.0</td>\n",
       "      <td>30.0</td>\n",
       "      <td>197.0</td>\n",
       "      <td>5.040609</td>\n",
       "      <td>...</td>\n",
       "      <td>8.0</td>\n",
       "      <td>10.0</td>\n",
       "      <td>197.0</td>\n",
       "      <td>5.101523</td>\n",
       "      <td>3.241921</td>\n",
       "      <td>0.0</td>\n",
       "      <td>2.0</td>\n",
       "      <td>5.0</td>\n",
       "      <td>8.0</td>\n",
       "      <td>10.0</td>\n",
       "    </tr>\n",
       "    <tr>\n",
       "      <th>Albania</th>\n",
       "      <td>200.0</td>\n",
       "      <td>15.840000</td>\n",
       "      <td>8.479618</td>\n",
       "      <td>0.0</td>\n",
       "      <td>8.75</td>\n",
       "      <td>16.0</td>\n",
       "      <td>23.0</td>\n",
       "      <td>30.0</td>\n",
       "      <td>200.0</td>\n",
       "      <td>5.015000</td>\n",
       "      <td>...</td>\n",
       "      <td>8.0</td>\n",
       "      <td>10.0</td>\n",
       "      <td>200.0</td>\n",
       "      <td>4.815000</td>\n",
       "      <td>3.125640</td>\n",
       "      <td>0.0</td>\n",
       "      <td>2.0</td>\n",
       "      <td>5.0</td>\n",
       "      <td>7.0</td>\n",
       "      <td>10.0</td>\n",
       "    </tr>\n",
       "    <tr>\n",
       "      <th>Algeria</th>\n",
       "      <td>185.0</td>\n",
       "      <td>14.124324</td>\n",
       "      <td>9.109879</td>\n",
       "      <td>0.0</td>\n",
       "      <td>6.00</td>\n",
       "      <td>14.0</td>\n",
       "      <td>21.0</td>\n",
       "      <td>30.0</td>\n",
       "      <td>185.0</td>\n",
       "      <td>4.891892</td>\n",
       "      <td>...</td>\n",
       "      <td>8.0</td>\n",
       "      <td>10.0</td>\n",
       "      <td>185.0</td>\n",
       "      <td>5.410811</td>\n",
       "      <td>3.197127</td>\n",
       "      <td>0.0</td>\n",
       "      <td>3.0</td>\n",
       "      <td>6.0</td>\n",
       "      <td>8.0</td>\n",
       "      <td>10.0</td>\n",
       "    </tr>\n",
       "    <tr>\n",
       "      <th>American Samoa</th>\n",
       "      <td>182.0</td>\n",
       "      <td>15.417582</td>\n",
       "      <td>8.895422</td>\n",
       "      <td>0.0</td>\n",
       "      <td>7.25</td>\n",
       "      <td>15.5</td>\n",
       "      <td>23.0</td>\n",
       "      <td>30.0</td>\n",
       "      <td>182.0</td>\n",
       "      <td>4.780220</td>\n",
       "      <td>...</td>\n",
       "      <td>8.0</td>\n",
       "      <td>10.0</td>\n",
       "      <td>182.0</td>\n",
       "      <td>5.093407</td>\n",
       "      <td>3.278435</td>\n",
       "      <td>0.0</td>\n",
       "      <td>2.0</td>\n",
       "      <td>5.0</td>\n",
       "      <td>8.0</td>\n",
       "      <td>10.0</td>\n",
       "    </tr>\n",
       "    <tr>\n",
       "      <th>Andorra</th>\n",
       "      <td>192.0</td>\n",
       "      <td>15.427083</td>\n",
       "      <td>8.874040</td>\n",
       "      <td>1.0</td>\n",
       "      <td>7.00</td>\n",
       "      <td>16.0</td>\n",
       "      <td>23.0</td>\n",
       "      <td>30.0</td>\n",
       "      <td>192.0</td>\n",
       "      <td>4.572917</td>\n",
       "      <td>...</td>\n",
       "      <td>8.0</td>\n",
       "      <td>10.0</td>\n",
       "      <td>192.0</td>\n",
       "      <td>5.135417</td>\n",
       "      <td>3.115977</td>\n",
       "      <td>0.0</td>\n",
       "      <td>2.0</td>\n",
       "      <td>5.0</td>\n",
       "      <td>8.0</td>\n",
       "      <td>10.0</td>\n",
       "    </tr>\n",
       "    <tr>\n",
       "      <th>...</th>\n",
       "      <td>...</td>\n",
       "      <td>...</td>\n",
       "      <td>...</td>\n",
       "      <td>...</td>\n",
       "      <td>...</td>\n",
       "      <td>...</td>\n",
       "      <td>...</td>\n",
       "      <td>...</td>\n",
       "      <td>...</td>\n",
       "      <td>...</td>\n",
       "      <td>...</td>\n",
       "      <td>...</td>\n",
       "      <td>...</td>\n",
       "      <td>...</td>\n",
       "      <td>...</td>\n",
       "      <td>...</td>\n",
       "      <td>...</td>\n",
       "      <td>...</td>\n",
       "      <td>...</td>\n",
       "      <td>...</td>\n",
       "      <td>...</td>\n",
       "    </tr>\n",
       "    <tr>\n",
       "      <th>Wallis and Futuna</th>\n",
       "      <td>211.0</td>\n",
       "      <td>15.251185</td>\n",
       "      <td>8.342001</td>\n",
       "      <td>0.0</td>\n",
       "      <td>8.50</td>\n",
       "      <td>15.0</td>\n",
       "      <td>22.0</td>\n",
       "      <td>30.0</td>\n",
       "      <td>211.0</td>\n",
       "      <td>4.834123</td>\n",
       "      <td>...</td>\n",
       "      <td>8.0</td>\n",
       "      <td>10.0</td>\n",
       "      <td>211.0</td>\n",
       "      <td>5.341232</td>\n",
       "      <td>3.102558</td>\n",
       "      <td>0.0</td>\n",
       "      <td>3.0</td>\n",
       "      <td>6.0</td>\n",
       "      <td>8.0</td>\n",
       "      <td>10.0</td>\n",
       "    </tr>\n",
       "    <tr>\n",
       "      <th>Western Sahara</th>\n",
       "      <td>195.0</td>\n",
       "      <td>16.420513</td>\n",
       "      <td>8.174488</td>\n",
       "      <td>1.0</td>\n",
       "      <td>10.00</td>\n",
       "      <td>16.0</td>\n",
       "      <td>23.0</td>\n",
       "      <td>30.0</td>\n",
       "      <td>195.0</td>\n",
       "      <td>4.912821</td>\n",
       "      <td>...</td>\n",
       "      <td>8.0</td>\n",
       "      <td>10.0</td>\n",
       "      <td>195.0</td>\n",
       "      <td>5.605128</td>\n",
       "      <td>3.095220</td>\n",
       "      <td>0.0</td>\n",
       "      <td>3.0</td>\n",
       "      <td>6.0</td>\n",
       "      <td>8.0</td>\n",
       "      <td>10.0</td>\n",
       "    </tr>\n",
       "    <tr>\n",
       "      <th>Yemen</th>\n",
       "      <td>195.0</td>\n",
       "      <td>14.117949</td>\n",
       "      <td>8.578409</td>\n",
       "      <td>0.0</td>\n",
       "      <td>7.00</td>\n",
       "      <td>14.0</td>\n",
       "      <td>21.0</td>\n",
       "      <td>30.0</td>\n",
       "      <td>195.0</td>\n",
       "      <td>5.215385</td>\n",
       "      <td>...</td>\n",
       "      <td>8.0</td>\n",
       "      <td>10.0</td>\n",
       "      <td>195.0</td>\n",
       "      <td>4.661538</td>\n",
       "      <td>3.160371</td>\n",
       "      <td>0.0</td>\n",
       "      <td>2.0</td>\n",
       "      <td>5.0</td>\n",
       "      <td>7.0</td>\n",
       "      <td>10.0</td>\n",
       "    </tr>\n",
       "    <tr>\n",
       "      <th>Zambia</th>\n",
       "      <td>202.0</td>\n",
       "      <td>16.277228</td>\n",
       "      <td>8.728770</td>\n",
       "      <td>0.0</td>\n",
       "      <td>9.00</td>\n",
       "      <td>17.0</td>\n",
       "      <td>24.0</td>\n",
       "      <td>30.0</td>\n",
       "      <td>202.0</td>\n",
       "      <td>5.391089</td>\n",
       "      <td>...</td>\n",
       "      <td>8.0</td>\n",
       "      <td>10.0</td>\n",
       "      <td>202.0</td>\n",
       "      <td>4.519802</td>\n",
       "      <td>3.157886</td>\n",
       "      <td>0.0</td>\n",
       "      <td>2.0</td>\n",
       "      <td>4.0</td>\n",
       "      <td>7.0</td>\n",
       "      <td>10.0</td>\n",
       "    </tr>\n",
       "    <tr>\n",
       "      <th>Zimbabwe</th>\n",
       "      <td>210.0</td>\n",
       "      <td>15.776190</td>\n",
       "      <td>8.715734</td>\n",
       "      <td>0.0</td>\n",
       "      <td>7.25</td>\n",
       "      <td>17.0</td>\n",
       "      <td>23.0</td>\n",
       "      <td>30.0</td>\n",
       "      <td>210.0</td>\n",
       "      <td>5.009524</td>\n",
       "      <td>...</td>\n",
       "      <td>8.0</td>\n",
       "      <td>10.0</td>\n",
       "      <td>210.0</td>\n",
       "      <td>4.833333</td>\n",
       "      <td>3.036592</td>\n",
       "      <td>0.0</td>\n",
       "      <td>2.0</td>\n",
       "      <td>4.5</td>\n",
       "      <td>7.0</td>\n",
       "      <td>10.0</td>\n",
       "    </tr>\n",
       "  </tbody>\n",
       "</table>\n",
       "<p>244 rows × 24 columns</p>\n",
       "</div>"
      ],
      "text/plain": [
       "                     YOE                                                     \\\n",
       "                   count       mean       std  min    25%   50%   75%   max   \n",
       "Country                                                                       \n",
       "Afghanistan        197.0  15.913706  8.690111  0.0   9.00  16.0  23.0  30.0   \n",
       "Albania            200.0  15.840000  8.479618  0.0   8.75  16.0  23.0  30.0   \n",
       "Algeria            185.0  14.124324  9.109879  0.0   6.00  14.0  21.0  30.0   \n",
       "American Samoa     182.0  15.417582  8.895422  0.0   7.25  15.5  23.0  30.0   \n",
       "Andorra            192.0  15.427083  8.874040  1.0   7.00  16.0  23.0  30.0   \n",
       "...                  ...        ...       ...  ...    ...   ...   ...   ...   \n",
       "Wallis and Futuna  211.0  15.251185  8.342001  0.0   8.50  15.0  22.0  30.0   \n",
       "Western Sahara     195.0  16.420513  8.174488  1.0  10.00  16.0  23.0  30.0   \n",
       "Yemen              195.0  14.117949  8.578409  0.0   7.00  14.0  21.0  30.0   \n",
       "Zambia             202.0  16.277228  8.728770  0.0   9.00  17.0  24.0  30.0   \n",
       "Zimbabwe           210.0  15.776190  8.715734  0.0   7.25  17.0  23.0  30.0   \n",
       "\n",
       "                  Code Challenge Score            ...             \\\n",
       "                                 count      mean  ...  75%   max   \n",
       "Country                                           ...              \n",
       "Afghanistan                      197.0  5.040609  ...  8.0  10.0   \n",
       "Albania                          200.0  5.015000  ...  8.0  10.0   \n",
       "Algeria                          185.0  4.891892  ...  8.0  10.0   \n",
       "American Samoa                   182.0  4.780220  ...  8.0  10.0   \n",
       "Andorra                          192.0  4.572917  ...  8.0  10.0   \n",
       "...                                ...       ...  ...  ...   ...   \n",
       "Wallis and Futuna                211.0  4.834123  ...  8.0  10.0   \n",
       "Western Sahara                   195.0  4.912821  ...  8.0  10.0   \n",
       "Yemen                            195.0  5.215385  ...  8.0  10.0   \n",
       "Zambia                           202.0  5.391089  ...  8.0  10.0   \n",
       "Zimbabwe                         210.0  5.009524  ...  8.0  10.0   \n",
       "\n",
       "                  Technical Interview Score                                \\\n",
       "                                      count      mean       std  min  25%   \n",
       "Country                                                                     \n",
       "Afghanistan                           197.0  5.101523  3.241921  0.0  2.0   \n",
       "Albania                               200.0  4.815000  3.125640  0.0  2.0   \n",
       "Algeria                               185.0  5.410811  3.197127  0.0  3.0   \n",
       "American Samoa                        182.0  5.093407  3.278435  0.0  2.0   \n",
       "Andorra                               192.0  5.135417  3.115977  0.0  2.0   \n",
       "...                                     ...       ...       ...  ...  ...   \n",
       "Wallis and Futuna                     211.0  5.341232  3.102558  0.0  3.0   \n",
       "Western Sahara                        195.0  5.605128  3.095220  0.0  3.0   \n",
       "Yemen                                 195.0  4.661538  3.160371  0.0  2.0   \n",
       "Zambia                                202.0  4.519802  3.157886  0.0  2.0   \n",
       "Zimbabwe                              210.0  4.833333  3.036592  0.0  2.0   \n",
       "\n",
       "                                   \n",
       "                   50%  75%   max  \n",
       "Country                            \n",
       "Afghanistan        5.0  8.0  10.0  \n",
       "Albania            5.0  7.0  10.0  \n",
       "Algeria            6.0  8.0  10.0  \n",
       "American Samoa     5.0  8.0  10.0  \n",
       "Andorra            5.0  8.0  10.0  \n",
       "...                ...  ...   ...  \n",
       "Wallis and Futuna  6.0  8.0  10.0  \n",
       "Western Sahara     6.0  8.0  10.0  \n",
       "Yemen              5.0  7.0  10.0  \n",
       "Zambia             4.0  7.0  10.0  \n",
       "Zimbabwe           4.5  7.0  10.0  \n",
       "\n",
       "[244 rows x 24 columns]"
      ]
     },
     "execution_count": 19,
     "metadata": {},
     "output_type": "execute_result"
    }
   ],
   "source": [
    "grouped_data = df.groupby('Country')\n",
    "grouped_data.describe()\n"
   ]
  },
  {
   "cell_type": "code",
   "execution_count": 20,
   "metadata": {},
   "outputs": [
    {
     "data": {
      "text/plain": [
       "First Name                    3007\n",
       "Last Name                      474\n",
       "Email                        49833\n",
       "Application Date              1646\n",
       "Country                        244\n",
       "YOE                             31\n",
       "Seniority                        7\n",
       "Technology                      24\n",
       "Code Challenge Score            11\n",
       "Technical Interview Score       11\n",
       "dtype: int64"
      ]
     },
     "execution_count": 20,
     "metadata": {},
     "output_type": "execute_result"
    }
   ],
   "source": [
    "df.nunique()"
   ]
  },
  {
   "cell_type": "code",
   "execution_count": 24,
   "metadata": {},
   "outputs": [
    {
     "data": {
      "text/plain": [
       "First Name                   0\n",
       "Last Name                    0\n",
       "Email                        0\n",
       "Application Date             0\n",
       "Country                      0\n",
       "YOE                          0\n",
       "Seniority                    0\n",
       "Technology                   0\n",
       "Code Challenge Score         0\n",
       "Technical Interview Score    0\n",
       "dtype: int64"
      ]
     },
     "execution_count": 24,
     "metadata": {},
     "output_type": "execute_result"
    }
   ],
   "source": [
    "df.isnull().sum()\n"
   ]
  },
  {
   "cell_type": "code",
   "execution_count": 26,
   "metadata": {},
   "outputs": [
    {
     "data": {
      "text/plain": [
       "First Name                   50000\n",
       "Last Name                    50000\n",
       "Email                        50000\n",
       "Application Date             50000\n",
       "Country                      50000\n",
       "YOE                          50000\n",
       "Seniority                    50000\n",
       "Technology                   50000\n",
       "Code Challenge Score         50000\n",
       "Technical Interview Score    50000\n",
       "dtype: int64"
      ]
     },
     "execution_count": 26,
     "metadata": {},
     "output_type": "execute_result"
    }
   ],
   "source": [
    "df.notnull().sum()"
   ]
  },
  {
   "cell_type": "code",
   "execution_count": 27,
   "metadata": {},
   "outputs": [],
   "source": [
    "import matplotlib.pyplot as plt\n"
   ]
  },
  {
   "cell_type": "code",
   "execution_count": 28,
   "metadata": {},
   "outputs": [
    {
     "data": {
      "image/png": "[encoded data removed]",
      "text/plain": [
       "<Figure size 640x480 with 1 Axes>"
      ]
     },
     "metadata": {},
     "output_type": "display_data"
    }
   ],
   "source": [
    "\n",
    "# Crear un diagrama de caja para cada columna\n",
    "df.boxplot()\n",
    "plt.xticks(rotation=90)  # Rotar las etiquetas del eje x si es necesario\n",
    "plt.show()"
   ]
  },
  {
   "cell_type": "code",
   "execution_count": null,
   "metadata": {},
   "outputs": [],
   "source": []
  },
  {
   "cell_type": "code",
   "execution_count": null,
   "metadata": {},
   "outputs": [],
   "source": []
  }
 ],
 "metadata": {
  "kernelspec": {
   "display_name": "venv",
   "language": "python",
   "name": "python3"
  },
  "language_info": {
   "codemirror_mode": {
    "name": "ipython",
    "version": 3
   },
   "file_extension": ".py",
   "mimetype": "text/x-python",
   "name": "python",
   "nbconvert_exporter": "python",
   "pygments_lexer": "ipython3",
   "version": "3.12.2"
  }
 },
 "nbformat": 4,
 "nbformat_minor": 2
}
