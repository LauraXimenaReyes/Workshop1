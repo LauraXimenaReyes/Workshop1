{
 "cells": [
  {
   "cell_type": "markdown",
   "metadata": {},
   "source": [
    "1. Importing Libraries and Setting Up Variables"
   ]
  },
  {
   "cell_type": "code",
   "execution_count": 1,
   "metadata": {},
   "outputs": [],
   "source": [
    "import pandas as pd\n",
    "import psycopg2\n",
    "import json"
   ]
  },
  {
   "cell_type": "markdown",
   "metadata": {},
   "source": [
    "This block imports the necessary libraries: pandas for data manipulation, psycopg2 for PostgreSQL database connection, and json for reading the database configuration file. It then reads the CSV file candidates.csv into a DataFrame df"
   ]
  },
  {
   "cell_type": "code",
   "execution_count": 2,
   "metadata": {},
   "outputs": [],
   "source": [
    "csv =\"candidates.csv\"\n",
    "df= pd.read_csv(csv, delimiter = \";\")"
   ]
  },
  {
   "cell_type": "markdown",
   "metadata": {},
   "source": [
    "2. DataFrame Information"
   ]
  },
  {
   "cell_type": "code",
   "execution_count": 3,
   "metadata": {},
   "outputs": [
    {
     "data": {
      "text/plain": [
       "<bound method DataFrame.info of        First Name   Last Name                       Email Application Date  \\\n",
       "0      Bernadette   Langworth         leonard91@yahoo.com       2021-02-26   \n",
       "1          Camryn    Reynolds         zelda56@hotmail.com       2021-09-09   \n",
       "2           Larue      Spinka    okey_schultz41@gmail.com       2020-04-14   \n",
       "3            Arch      Spinka      elvera_kulas@yahoo.com       2020-10-01   \n",
       "4           Larue  Altenwerth   minnie.gislason@gmail.com       2020-05-20   \n",
       "...           ...         ...                         ...              ...   \n",
       "49995     Bethany     Shields  rocky_mitchell@hotmail.com       2022-01-09   \n",
       "49996         Era  Swaniawski    dolores.roob@hotmail.com       2020-06-02   \n",
       "49997      Martin       Lakin   savanah.stracke@gmail.com       2018-12-15   \n",
       "49998       Aliya   Abernathy  vivienne.fritsch@yahoo.com       2020-05-30   \n",
       "49999     Coleman      Wisozk   abigayle.crooks@yahoo.com       2022-06-13   \n",
       "\n",
       "                  Country  YOE  Seniority                         Technology  \\\n",
       "0                  Norway    2     Intern                      Data Engineer   \n",
       "1                  Panama   10     Intern                      Data Engineer   \n",
       "2                 Belarus    4  Mid-Level                     Client Success   \n",
       "3                 Eritrea   25    Trainee                          QA Manual   \n",
       "4                 Myanmar   13  Mid-Level  Social Media Community Management   \n",
       "...                   ...  ...        ...                                ...   \n",
       "49995  Dominican Republic   27    Trainee                           Security   \n",
       "49996             Morocco   21       Lead                   Game Development   \n",
       "49997              Uganda   20    Trainee              System Administration   \n",
       "49998      Czech Republic   20     Senior            Database Administration   \n",
       "49999               Palau   15     Intern                           Mulesoft   \n",
       "\n",
       "       Code Challenge Score  Technical Interview Score  \n",
       "0                         3                          3  \n",
       "1                         2                         10  \n",
       "2                        10                          9  \n",
       "3                         7                          1  \n",
       "4                         9                          7  \n",
       "...                     ...                        ...  \n",
       "49995                     2                          1  \n",
       "49996                     1                          2  \n",
       "49997                     6                          1  \n",
       "49998                     0                          0  \n",
       "49999                     3                          1  \n",
       "\n",
       "[50000 rows x 10 columns]>"
      ]
     },
     "execution_count": 3,
     "metadata": {},
     "output_type": "execute_result"
    }
   ],
   "source": [
    "df.info\n"
   ]
  },
  {
   "cell_type": "code",
   "execution_count": 4,
   "metadata": {},
   "outputs": [
    {
     "data": {
      "text/plain": [
       "First Name                   0\n",
       "Last Name                    0\n",
       "Email                        0\n",
       "Application Date             0\n",
       "Country                      0\n",
       "YOE                          0\n",
       "Seniority                    0\n",
       "Technology                   0\n",
       "Code Challenge Score         0\n",
       "Technical Interview Score    0\n",
       "dtype: int64"
      ]
     },
     "execution_count": 4,
     "metadata": {},
     "output_type": "execute_result"
    }
   ],
   "source": [
    "df.isnull().sum()"
   ]
  },
  {
   "cell_type": "code",
   "execution_count": 5,
   "metadata": {},
   "outputs": [
    {
     "data": {
      "text/plain": [
       "Index(['First Name', 'Last Name', 'Email', 'Application Date', 'Country',\n",
       "       'YOE', 'Seniority', 'Technology', 'Code Challenge Score',\n",
       "       'Technical Interview Score'],\n",
       "      dtype='object')"
      ]
     },
     "execution_count": 5,
     "metadata": {},
     "output_type": "execute_result"
    }
   ],
   "source": [
    "df.columns"
   ]
  },
  {
   "cell_type": "code",
   "execution_count": 6,
   "metadata": {},
   "outputs": [
    {
     "data": {
      "text/plain": [
       "First Name                   object\n",
       "Last Name                    object\n",
       "Email                        object\n",
       "Application Date             object\n",
       "Country                      object\n",
       "YOE                           int64\n",
       "Seniority                    object\n",
       "Technology                   object\n",
       "Code Challenge Score          int64\n",
       "Technical Interview Score     int64\n",
       "dtype: object"
      ]
     },
     "execution_count": 6,
     "metadata": {},
     "output_type": "execute_result"
    }
   ],
   "source": [
    "df.dtypes"
   ]
  },
  {
   "cell_type": "code",
   "execution_count": 9,
   "metadata": {},
   "outputs": [
    {
     "name": "stdout",
     "output_type": "stream",
     "text": [
      "Database connection successfully established.\n",
      "Candidates table successfully created.\n"
     ]
    }
   ],
   "source": [
    "\n",
    "\n",
    "#Function to read the connection configuration from a JSON file\n",
    "def read_db_config(json_file_path):\n",
    "    with open(json_file_path, 'r') as file:\n",
    "        return json.load(file)\n",
    "\n",
    "configuration = read_db_config('finaldatabase.json')\n",
    "\n",
    "#Function to connect to an existing database\n",
    "def connect_to_database(json_file_path):\n",
    "    try:\n",
    "        configuration = read_db_config(json_file_path)\n",
    "\n",
    "        # Establish the connection to the database\n",
    "        connection = psycopg2.connect(\n",
    "            user=configuration['user'],\n",
    "            password=configuration['password'],\n",
    "            database=configuration['dbname'] \n",
    "        )\n",
    "\n",
    "        print(\"Database connection successfully established.\")\n",
    "        return connection\n",
    "\n",
    "    except Exception as e:\n",
    "        print(f\"Failed to connect to the database: {e}\")\n",
    "        return None\n",
    "\n",
    "#Connect to the database\n",
    "connection = connect_to_database('finaldatabase.json')\n",
    "\n",
    "#function to create the candidates table\n",
    "def create_candidates_table(connection):\n",
    "    # Create a new cursor\n",
    "    cursor = connection.cursor()\n",
    "    \n",
    "    cursor.execute(\"\"\"\n",
    "        CREATE TABLE IF NOT EXISTS Candidates (\n",
    "            CandidateID SERIAL PRIMARY KEY,\n",
    "            FirstName VARCHAR(255) NOT NULL,\n",
    "            LastName VARCHAR(255) NOT NULL,\n",
    "            Email VARCHAR(255) NOT NULL,\n",
    "            ApplicationDate DATE NOT NULL,\n",
    "            Country VARCHAR(255) NOT NULL,\n",
    "            Experience INT NOT NULL,\n",
    "            SeniorityLevel VARCHAR(255) NOT NULL,\n",
    "            TechnologyStack VARCHAR(255) NOT NULL,\n",
    "            CodeChallengeScore SMALLINT NOT NULL,\n",
    "            TechnicalInterviewScore SMALLINT NOT NULL,\n",
    "            Hired BOOLEAN NOT NULL\n",
    "        );\n",
    "    \"\"\")\n",
    "    \n",
    "    #Confirm the creation of the table\n",
    "    connection.commit()\n",
    "    \n",
    "    #Close the cursor\n",
    "    cursor.close()\n",
    "\n",
    "    print(\"Candidates table successfully created.\")\n",
    "\n",
    "#Create the table using connection\n",
    "create_candidates_table(connection)\n",
    "\n",
    "#Close the connection\n",
    "connection.close()\n"
   ]
  },
  {
   "cell_type": "code",
   "execution_count": 10,
   "metadata": {},
   "outputs": [],
   "source": [
    "csv = \"candidates.csv\"\n",
    "df = pd.read_csv(csv, delimiter = \";\")"
   ]
  },
  {
   "cell_type": "code",
   "execution_count": 11,
   "metadata": {},
   "outputs": [
    {
     "name": "stdout",
     "output_type": "stream",
     "text": [
      "Database connection successfully established.\n",
      "Data successfully inserted into the Candidates table.\n"
     ]
    }
   ],
   "source": [
    "#Function to insert data into the table candidates.\n",
    "def insert_candidate_data(df, connection):\n",
    "    cursor = connection.cursor()\n",
    "    insert_query = '''\n",
    "        INSERT INTO Candidates (FirstName, LastName, Email, ApplicationDate, Country, Experience, SeniorityLevel, TechnologyStack, CodeChallengeScore, TechnicalInterviewScore, Hired)\n",
    "        VALUES (%s, %s, %s, %s, %s, %s, %s, %s, %s, %s, %s)\n",
    "    '''\n",
    "    for _, row in df.iterrows():\n",
    "        hired = row['Code Challenge Score'] >= 7 and row['Technical Interview Score'] >= 7\n",
    "        data_tuple = (row['First Name'], row['Last Name'], row['Email'], row['Application Date'], row['Country'], row['YOE'], row['Seniority'], row['Technology'], row['Code Challenge Score'], row['Technical Interview Score'], hired)\n",
    "        cursor.execute(insert_query, data_tuple)\n",
    "    connection.commit()\n",
    "    print('Data successfully inserted into the Candidates table.')\n",
    "    cursor.close()\n",
    "\n",
    "#Connect to the database\n",
    "connection = connect_to_database('finaldatabase.json') \n",
    "insert_candidate_data(df, connection)  #Call the function to insert data passing the DataFrame\n",
    "connection.close()  # Close the connection\n"
   ]
  },
  {
   "cell_type": "code",
   "execution_count": 12,
   "metadata": {},
   "outputs": [
    {
     "name": "stdout",
     "output_type": "stream",
     "text": [
      "Database connection successfully established.\n",
      "   candidateid   firstname    lastname                      email  \\\n",
      "0            1  Bernadette   Langworth        leonard91@yahoo.com   \n",
      "1            2      Camryn    Reynolds        zelda56@hotmail.com   \n",
      "2            3       Larue      Spinka   okey_schultz41@gmail.com   \n",
      "3            4        Arch      Spinka     elvera_kulas@yahoo.com   \n",
      "4            5       Larue  Altenwerth  minnie.gislason@gmail.com   \n",
      "\n",
      "  applicationdate  country  experience senioritylevel  \\\n",
      "0      2021-02-26   Norway           2         Intern   \n",
      "1      2021-09-09   Panama          10         Intern   \n",
      "2      2020-04-14  Belarus           4      Mid-Level   \n",
      "3      2020-10-01  Eritrea          25        Trainee   \n",
      "4      2020-05-20  Myanmar          13      Mid-Level   \n",
      "\n",
      "                     technologystack  codechallengescore  \\\n",
      "0                      Data Engineer                   3   \n",
      "1                      Data Engineer                   2   \n",
      "2                     Client Success                  10   \n",
      "3                          QA Manual                   7   \n",
      "4  Social Media Community Management                   9   \n",
      "\n",
      "   technicalinterviewscore  hired  \n",
      "0                        3  False  \n",
      "1                       10  False  \n",
      "2                        9   True  \n",
      "3                        1  False  \n",
      "4                        7   True  \n"
     ]
    }
   ],
   "source": [
    "def fetch_updated_data():\n",
    "    #conection to database\n",
    "    connection = connect_to_database('finaldatabase.json')\n",
    "    \n",
    "    #use the cursor\n",
    "    cursor = connection.cursor()\n",
    "    \n",
    "    #select candidates\n",
    "    cursor.execute(\"SELECT * FROM Candidates;\")\n",
    "    \n",
    "    #new df\n",
    "    updated_df = pd.DataFrame(cursor.fetchall(), columns=[desc[0] for desc in cursor.description])\n",
    "    \n",
    "    \n",
    "    cursor.close()\n",
    "    connection.close()\n",
    "    \n",
    "    return updated_df\n",
    "\n",
    "#updated df\n",
    "updated_df = fetch_updated_data()\n",
    "print(updated_df.head())\n"
   ]
  },
  {
   "cell_type": "code",
   "execution_count": 13,
   "metadata": {},
   "outputs": [
    {
     "data": {
      "text/plain": [
       "<bound method DataFrame.info of        candidateid   firstname    lastname                       email  \\\n",
       "0                1  Bernadette   Langworth         leonard91@yahoo.com   \n",
       "1                2      Camryn    Reynolds         zelda56@hotmail.com   \n",
       "2                3       Larue      Spinka    okey_schultz41@gmail.com   \n",
       "3                4        Arch      Spinka      elvera_kulas@yahoo.com   \n",
       "4                5       Larue  Altenwerth   minnie.gislason@gmail.com   \n",
       "...            ...         ...         ...                         ...   \n",
       "49995        49996     Bethany     Shields  rocky_mitchell@hotmail.com   \n",
       "49996        49997         Era  Swaniawski    dolores.roob@hotmail.com   \n",
       "49997        49998      Martin       Lakin   savanah.stracke@gmail.com   \n",
       "49998        49999       Aliya   Abernathy  vivienne.fritsch@yahoo.com   \n",
       "49999        50000     Coleman      Wisozk   abigayle.crooks@yahoo.com   \n",
       "\n",
       "      applicationdate             country  experience senioritylevel  \\\n",
       "0          2021-02-26              Norway           2         Intern   \n",
       "1          2021-09-09              Panama          10         Intern   \n",
       "2          2020-04-14             Belarus           4      Mid-Level   \n",
       "3          2020-10-01             Eritrea          25        Trainee   \n",
       "4          2020-05-20             Myanmar          13      Mid-Level   \n",
       "...               ...                 ...         ...            ...   \n",
       "49995      2022-01-09  Dominican Republic          27        Trainee   \n",
       "49996      2020-06-02             Morocco          21           Lead   \n",
       "49997      2018-12-15              Uganda          20        Trainee   \n",
       "49998      2020-05-30      Czech Republic          20         Senior   \n",
       "49999      2022-06-13               Palau          15         Intern   \n",
       "\n",
       "                         technologystack  codechallengescore  \\\n",
       "0                          Data Engineer                   3   \n",
       "1                          Data Engineer                   2   \n",
       "2                         Client Success                  10   \n",
       "3                              QA Manual                   7   \n",
       "4      Social Media Community Management                   9   \n",
       "...                                  ...                 ...   \n",
       "49995                           Security                   2   \n",
       "49996                   Game Development                   1   \n",
       "49997              System Administration                   6   \n",
       "49998            Database Administration                   0   \n",
       "49999                           Mulesoft                   3   \n",
       "\n",
       "       technicalinterviewscore  hired  \n",
       "0                            3  False  \n",
       "1                           10  False  \n",
       "2                            9   True  \n",
       "3                            1  False  \n",
       "4                            7   True  \n",
       "...                        ...    ...  \n",
       "49995                        1  False  \n",
       "49996                        2  False  \n",
       "49997                        1  False  \n",
       "49998                        0  False  \n",
       "49999                        1  False  \n",
       "\n",
       "[50000 rows x 12 columns]>"
      ]
     },
     "execution_count": 13,
     "metadata": {},
     "output_type": "execute_result"
    }
   ],
   "source": [
    "updated_df.info"
   ]
  },
  {
   "cell_type": "code",
   "execution_count": 14,
   "metadata": {},
   "outputs": [
    {
     "data": {
      "text/plain": [
       "Index(['candidateid', 'firstname', 'lastname', 'email', 'applicationdate',\n",
       "       'country', 'experience', 'senioritylevel', 'technologystack',\n",
       "       'codechallengescore', 'technicalinterviewscore', 'hired'],\n",
       "      dtype='object')"
      ]
     },
     "execution_count": 14,
     "metadata": {},
     "output_type": "execute_result"
    }
   ],
   "source": [
    "updated_df.columns"
   ]
  },
  {
   "cell_type": "code",
   "execution_count": null,
   "metadata": {},
   "outputs": [],
   "source": [
    "updated_df.describe()"
   ]
  },
  {
   "cell_type": "code",
   "execution_count": null,
   "metadata": {},
   "outputs": [],
   "source": [
    "grouped_data2 = updated_df.groupby(\"technicalinterviewscore\")\n",
    "grouped_data2.describe()"
   ]
  },
  {
   "cell_type": "code",
   "execution_count": null,
   "metadata": {},
   "outputs": [],
   "source": [
    "grouped_data1 = updated_df.groupby(\"hired\")\n",
    "grouped_data1.describe()"
   ]
  }
 ],
 "metadata": {
  "kernelspec": {
   "display_name": "venv",
   "language": "python",
   "name": "python3"
  },
  "language_info": {
   "codemirror_mode": {
    "name": "ipython",
    "version": 3
   },
   "file_extension": ".py",
   "mimetype": "text/x-python",
   "name": "python",
   "nbconvert_exporter": "python",
   "pygments_lexer": "ipython3",
   "version": "3.12.2"
  }
 },
 "nbformat": 4,
 "nbformat_minor": 2
}
