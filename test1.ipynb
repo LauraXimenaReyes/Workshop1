{
 "cells": [
  {
   "cell_type": "code",
   "execution_count": 3,
   "metadata": {},
   "outputs": [],
   "source": []
  },
  {
   "cell_type": "code",
   "execution_count": 6,
   "metadata": {},
   "outputs": [
    {
     "name": "stdout",
     "output_type": "stream",
     "text": [
      "Database connection successfully established.\n",
      "Candidates table successfully created.\n"
     ]
    }
   ],
   "source": [
    "import psycopg2\n",
    "import json\n",
    "\n",
    "# Function to read the connection configuration from a JSON file\n",
    "def read_db_config(json_file_path):\n",
    "    with open(json_file_path, 'r') as file:\n",
    "        return json.load(file)\n",
    "\n",
    "configuration = read_db_config('database3.json')\n",
    "\n",
    "# Function to connect to an existing database\n",
    "def connect_to_database(json_file_path):\n",
    "    try:\n",
    "        # Read the connection configuration from a JSON file\n",
    "        configuration = read_db_config(json_file_path)\n",
    "\n",
    "        # Establish the connection to the database\n",
    "        connection = psycopg2.connect(\n",
    "            user=configuration['user'],\n",
    "            password=configuration['password'],\n",
    "            database=configuration['dbname']  # Make sure this is your database name\n",
    "        )\n",
    "\n",
    "        print(\"Database connection successfully established.\")\n",
    "        return connection\n",
    "\n",
    "    except Exception as e:\n",
    "        print(f\"Failed to connect to the database: {e}\")\n",
    "        return None\n",
    "\n",
    "# Connect to the database\n",
    "connection = connect_to_database('database3.json')\n",
    "\n",
    "# Function to create the candidates table\n",
    "def create_candidates_table(connection):\n",
    "    # Create a new cursor\n",
    "    cursor = connection.cursor()\n",
    "    \n",
    "    # Create the Candidates table\n",
    "    cursor.execute(\"\"\"\n",
    "        CREATE TABLE IF NOT EXISTS Candidates (\n",
    "            CandidateID SERIAL PRIMARY KEY,\n",
    "            FirstName VARCHAR(255) NOT NULL,\n",
    "            LastName VARCHAR(255) NOT NULL,\n",
    "            Email VARCHAR(255) NOT NULL,\n",
    "            ApplicationDate DATE NOT NULL,\n",
    "            Country VARCHAR(255) NOT NULL,\n",
    "            Experience INT NOT NULL,\n",
    "            SeniorityLevel VARCHAR(255) NOT NULL,\n",
    "            TechnologyStack VARCHAR(255) NOT NULL,\n",
    "            CodeChallengeScore SMALLINT NOT NULL,\n",
    "            TechnicalInterviewScore SMALLINT NOT NULL,\n",
    "            Hired BOOLEAN NOT NULL\n",
    "        );\n",
    "    \"\"\")\n",
    "    \n",
    "    # Confirm the creation of the table\n",
    "    connection.commit()\n",
    "    \n",
    "    # Close the cursor\n",
    "    cursor.close()\n",
    "\n",
    "    print(\"Candidates table successfully created.\")\n",
    "\n",
    "# Create the table using the existing connection\n",
    "create_candidates_table(connection)\n",
    "\n",
    "# Close the connection\n",
    "connection.close()\n"
   ]
  },
  {
   "cell_type": "code",
   "execution_count": 7,
   "metadata": {},
   "outputs": [],
   "source": [
    "import pandas as pd\n",
    "csv = \"candidates.csv\"\n",
    "df = pd.read_csv(csv, delimiter = \";\")"
   ]
  },
  {
   "cell_type": "code",
   "execution_count": 8,
   "metadata": {},
   "outputs": [
    {
     "name": "stdout",
     "output_type": "stream",
     "text": [
      "Database connection successfully established.\n",
      "Data successfully inserted into the Candidates table.\n"
     ]
    }
   ],
   "source": [
    "# Function to insert data into the table\n",
    "def insert_candidate_data(df, connection):\n",
    "    cursor = connection.cursor()\n",
    "    insert_query = '''\n",
    "        INSERT INTO Candidates (FirstName, LastName, Email, ApplicationDate, Country, Experience, SeniorityLevel, TechnologyStack, CodeChallengeScore, TechnicalInterviewScore, Hired)\n",
    "        VALUES (%s, %s, %s, %s, %s, %s, %s, %s, %s, %s, %s)\n",
    "    '''\n",
    "    for _, row in df.iterrows():\n",
    "        hired = row['Code Challenge Score'] >= 7 and row['Technical Interview Score'] >= 7\n",
    "        data_tuple = (row['First Name'], row['Last Name'], row['Email'], row['Application Date'], row['Country'], row['YOE'], row['Seniority'], row['Technology'], row['Code Challenge Score'], row['Technical Interview Score'], hired)\n",
    "        cursor.execute(insert_query, data_tuple)\n",
    "    connection.commit()\n",
    "    print('Data successfully inserted into the Candidates table.')\n",
    "    cursor.close()\n",
    "\n",
    "# Connect to the database\n",
    "connection = connect_to_database('database3.json')  # Connect to the database\n",
    "insert_candidate_data(df, connection)  # Call the function to insert data passing the DataFrame\n",
    "connection.close()  # Close the connection\n"
   ]
  }
 ],
 "metadata": {
  "kernelspec": {
   "display_name": "venv",
   "language": "python",
   "name": "python3"
  },
  "language_info": {
   "codemirror_mode": {
    "name": "ipython",
    "version": 3
   },
   "file_extension": ".py",
   "mimetype": "text/x-python",
   "name": "python",
   "nbconvert_exporter": "python",
   "pygments_lexer": "ipython3",
   "version": "3.12.2"
  }
 },
 "nbformat": 4,
 "nbformat_minor": 2
}
